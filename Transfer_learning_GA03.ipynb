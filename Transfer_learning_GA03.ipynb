{
  "nbformat": 4,
  "nbformat_minor": 0,
  "metadata": {
    "colab": {
      "provenance": []
    },
    "kernelspec": {
      "name": "python3",
      "display_name": "Python 3"
    },
    "language_info": {
      "name": "python"
    }
  },
  "cells": [
    {
      "cell_type": "markdown",
      "source": [
        "##Usar a minha drive\n",
        "\n"
      ],
      "metadata": {
        "id": "DisDVOmQ8eiE"
      }
    },
    {
      "cell_type": "code",
      "source": [
        "from google.colab import drive\n",
        "drive.mount('/content/gdrive')\n",
        "\n",
        "#Comentar este pedaço de código para puder correr o código noutro computador"
      ],
      "metadata": {
        "colab": {
          "base_uri": "https://localhost:8080/"
        },
        "id": "4hHGetGaebem",
        "outputId": "7b2b02ed-6cd9-474e-bf0c-a50485c38089"
      },
      "execution_count": null,
      "outputs": [
        {
          "output_type": "stream",
          "name": "stdout",
          "text": [
            "Mounted at /content/gdrive\n"
          ]
        }
      ]
    },
    {
      "cell_type": "markdown",
      "source": [
        "##Caminho para o dataset na drive"
      ],
      "metadata": {
        "id": "l9VsEEDK4HDr"
      }
    },
    {
      "cell_type": "code",
      "source": [
        "%cd /content/gdrive/My Drive/ESC-50\n",
        "\n",
        "#Comentar este pedaço de código para puder correr o código noutro computador"
      ],
      "metadata": {
        "colab": {
          "base_uri": "https://localhost:8080/"
        },
        "id": "rZ19aDj7ehOu",
        "outputId": "2163ab66-6641-488a-fad1-d889600724a6"
      },
      "execution_count": null,
      "outputs": [
        {
          "output_type": "stream",
          "name": "stdout",
          "text": [
            "/content/gdrive/My Drive/ESC-50\n"
          ]
        }
      ]
    },
    {
      "cell_type": "markdown",
      "source": [
        "##Carrega os dados"
      ],
      "metadata": {
        "id": "Y7qrF1hL4BnV"
      }
    },
    {
      "cell_type": "code",
      "source": [
        "import os\n",
        "import pandas as pd\n",
        "\n",
        "# Caminho para o dataset\n",
        "ESC_50_AUDIO_PATH = \"/content/gdrive/My Drive/ESC-50/Audio\"\n",
        "ESC_50_METADATA_PATH = \"/content/gdrive/My Drive/ESC-50/meta/esc50.csv\"\n",
        "\n",
        "#Trocar o caminho que está para aceder aos audios e os metadados para o caminho próprio\n",
        "\n",
        "# Carregar metadados\n",
        "esc50_metadata_df = pd.read_csv(ESC_50_METADATA_PATH)\n",
        "\n",
        "# Visualizar as primeiras linhas\n",
        "print(esc50_metadata_df.head())"
      ],
      "metadata": {
        "colab": {
          "base_uri": "https://localhost:8080/"
        },
        "id": "MRb9AooVeISE",
        "outputId": "2c319858-2f6d-442a-a777-ab7841697415"
      },
      "execution_count": null,
      "outputs": [
        {
          "output_type": "stream",
          "name": "stdout",
          "text": [
            "            filename  fold  target        category  esc10  src_file take\n",
            "0   1-100032-A-0.wav     1       0             dog   True    100032    A\n",
            "1  1-100038-A-14.wav     1      14  chirping_birds  False    100038    A\n",
            "2  1-100210-A-36.wav     1      36  vacuum_cleaner  False    100210    A\n",
            "3  1-100210-B-36.wav     1      36  vacuum_cleaner  False    100210    B\n",
            "4  1-101296-A-19.wav     1      19    thunderstorm  False    101296    A\n"
          ]
        }
      ]
    },
    {
      "cell_type": "markdown",
      "source": [
        "##Carregar a deep neural network"
      ],
      "metadata": {
        "id": "ycJVnPWI7pIP"
      }
    },
    {
      "cell_type": "code",
      "source": [
        "import tensorflow_hub as hub\n",
        "\n",
        "# Carregar o modelo YAMNet pré-treinado\n",
        "yamnet_model = hub.load('https://tfhub.dev/google/yamnet/1')"
      ],
      "metadata": {
        "id": "W-PRsxYqfVu7"
      },
      "execution_count": null,
      "outputs": []
    },
    {
      "cell_type": "markdown",
      "source": [
        "##Definição da função de extração"
      ],
      "metadata": {
        "id": "vkoHzRnK9nv1"
      }
    },
    {
      "cell_type": "code",
      "source": [
        "import librosa\n",
        "import numpy as np\n",
        "\n",
        "def extract_yamnet_features(audio_path):\n",
        "    # Carregar o áudio\n",
        "    waveform, sample_rate = librosa.load(audio_path, sr=16000)  # YAMNet requer 16 kHz\n",
        "\n",
        "    # Extrair embeddings com YAMNet\n",
        "    embeddings, _, _ = yamnet_model(waveform)\n",
        "\n",
        "    # Tirar a média dos embeddings ao longo do tempo\n",
        "    return np.mean(embeddings.numpy(), axis=0)"
      ],
      "metadata": {
        "id": "y_xg2AVCfb-4"
      },
      "execution_count": null,
      "outputs": []
    },
    {
      "cell_type": "code",
      "source": [
        "esc50_metadata_df['file_path'] = esc50_metadata_df.apply(\n",
        "    lambda row: os.path.join(ESC_50_AUDIO_PATH, row['filename']), axis=1\n",
        ")"
      ],
      "metadata": {
        "id": "YTiL0AR-ffr9"
      },
      "execution_count": null,
      "outputs": []
    },
    {
      "cell_type": "markdown",
      "source": [
        "##Extração dos embeddings"
      ],
      "metadata": {
        "id": "XUCaqNDa9uQb"
      }
    },
    {
      "cell_type": "code",
      "source": [
        "from tqdm import tqdm\n",
        "\n",
        "features = []\n",
        "labels = []\n",
        "\n",
        "for index, row in tqdm(esc50_metadata_df.iterrows(), total=len(esc50_metadata_df)):\n",
        "    file_path = row['file_path']\n",
        "    target = row['target']  # Classe do som\n",
        "\n",
        "    # Extrair features com YAMNet\n",
        "    yamnet_features = extract_yamnet_features(file_path) # extrai os embeddings dos audios do dataset ESC-50\n",
        "\n",
        "    features.append(yamnet_features) # coloca os embeddings dos audios em features\n",
        "    labels.append(target) # coloca  os rotulos dos audios em labels"
      ],
      "metadata": {
        "colab": {
          "base_uri": "https://localhost:8080/"
        },
        "id": "tlbTf58rfjOu",
        "outputId": "1ffd69b7-d26d-4746-a204-5077053658e4"
      },
      "execution_count": null,
      "outputs": [
        {
          "output_type": "stream",
          "name": "stderr",
          "text": [
            "100%|██████████| 2000/2000 [28:35<00:00,  1.17it/s]\n"
          ]
        }
      ]
    },
    {
      "cell_type": "code",
      "source": [
        "features_df = pd.DataFrame(features)\n",
        "features_df['label'] = labels"
      ],
      "metadata": {
        "id": "egnynG_GlMXk"
      },
      "execution_count": null,
      "outputs": []
    },
    {
      "cell_type": "markdown",
      "source": [
        "##Classificador"
      ],
      "metadata": {
        "id": "G1WXX5LUlOPw"
      }
    },
    {
      "cell_type": "markdown",
      "source": [
        "##Divide os dados para treinamento"
      ],
      "metadata": {
        "id": "lbiim08831Gx"
      }
    },
    {
      "cell_type": "code",
      "source": [
        "#Nao correr esta celula se for para correr novo dataset de testing.\n",
        "from sklearn.model_selection import train_test_split\n",
        "\n",
        "X = features_df.iloc[:, :-1].values  # Features extraídas do aúdio (são os embeddings gerados pelo yamnet. Cada linha de X é um vetor de 1024 )\n",
        "y = features_df['label'].values     # Labels(rótulos associados a cada som no dataset ESC-50)\n",
        "\n",
        "X_train, X_test, y_train, y_test = train_test_split(X, y, test_size=0.2, random_state=42)\n",
        "#Modelo é treinado em 80% dos dados-> (x_train e y_train) e avaliado nos outros 20% ->(X_test e Y_test)"
      ],
      "metadata": {
        "id": "h71ENQFzlQ4w",
        "colab": {
          "base_uri": "https://localhost:8080/",
          "height": 211
        },
        "outputId": "4eadcbe4-0ce3-4a1d-e8e7-3e1914df1ec4"
      },
      "execution_count": null,
      "outputs": [
        {
          "output_type": "error",
          "ename": "NameError",
          "evalue": "name 'features_df' is not defined",
          "traceback": [
            "\u001b[0;31m---------------------------------------------------------------------------\u001b[0m",
            "\u001b[0;31mNameError\u001b[0m                                 Traceback (most recent call last)",
            "\u001b[0;32m<ipython-input-2-8bda394963c5>\u001b[0m in \u001b[0;36m<cell line: 3>\u001b[0;34m()\u001b[0m\n\u001b[1;32m      1\u001b[0m \u001b[0;32mfrom\u001b[0m \u001b[0msklearn\u001b[0m\u001b[0;34m.\u001b[0m\u001b[0mmodel_selection\u001b[0m \u001b[0;32mimport\u001b[0m \u001b[0mtrain_test_split\u001b[0m\u001b[0;34m\u001b[0m\u001b[0;34m\u001b[0m\u001b[0m\n\u001b[1;32m      2\u001b[0m \u001b[0;34m\u001b[0m\u001b[0m\n\u001b[0;32m----> 3\u001b[0;31m \u001b[0mX\u001b[0m \u001b[0;34m=\u001b[0m \u001b[0mfeatures_df\u001b[0m\u001b[0;34m.\u001b[0m\u001b[0miloc\u001b[0m\u001b[0;34m[\u001b[0m\u001b[0;34m:\u001b[0m\u001b[0;34m,\u001b[0m \u001b[0;34m:\u001b[0m\u001b[0;34m-\u001b[0m\u001b[0;36m1\u001b[0m\u001b[0;34m]\u001b[0m\u001b[0;34m.\u001b[0m\u001b[0mvalues\u001b[0m  \u001b[0;31m# Features extraídas do aúdio (são os embeddings gerados pelo yamnet. Cada linha de X é um vetor de 1024 )\u001b[0m\u001b[0;34m\u001b[0m\u001b[0;34m\u001b[0m\u001b[0m\n\u001b[0m\u001b[1;32m      4\u001b[0m \u001b[0my\u001b[0m \u001b[0;34m=\u001b[0m \u001b[0mfeatures_df\u001b[0m\u001b[0;34m[\u001b[0m\u001b[0;34m'label'\u001b[0m\u001b[0;34m]\u001b[0m\u001b[0;34m.\u001b[0m\u001b[0mvalues\u001b[0m     \u001b[0;31m# Labels(rótulos associados a cada som no dataset ESC-50)\u001b[0m\u001b[0;34m\u001b[0m\u001b[0;34m\u001b[0m\u001b[0m\n\u001b[1;32m      5\u001b[0m \u001b[0;34m\u001b[0m\u001b[0m\n",
            "\u001b[0;31mNameError\u001b[0m: name 'features_df' is not defined"
          ]
        }
      ]
    },
    {
      "cell_type": "markdown",
      "source": [
        "##Correr apenas se for para testar novo dataset de testing"
      ],
      "metadata": {
        "id": "VLYXWE4lDkLX"
      }
    },
    {
      "cell_type": "code",
      "source": [
        "#Correr esta celula e não a de cima se para testar novo dataset de testing\n",
        "from sklearn.model_selection import train_test_split\n",
        "\n",
        "X_test = features_df.iloc[:, :-1].values  # Features extraídas do audio do novo dataset (são os embeddings gerados pelo yamnet. Cada linha de X é um vetor de 1024 )\n",
        "y_test = features_df['label'].values     # Labels(rótulos associados a cada som no dataset de testing)\n"
      ],
      "metadata": {
        "id": "148NxbMIDUno"
      },
      "execution_count": null,
      "outputs": []
    },
    {
      "cell_type": "markdown",
      "source": [
        "##Treina o modelo"
      ],
      "metadata": {
        "id": "pbcM2d2-348m"
      }
    },
    {
      "cell_type": "code",
      "source": [
        "#Não treinar o modelo com o novo dataset, apenas avaliar a performance.Assim usamos o aprendizado do modelo usando o ESC-50\n",
        "#Logo, comentar ou não correr a célula seguinte ao avaliar o modelo"
      ],
      "metadata": {
        "id": "T64v2J607M7B"
      },
      "execution_count": null,
      "outputs": []
    },
    {
      "cell_type": "code",
      "source": [
        "from sklearn.ensemble import RandomForestClassifier\n",
        "\n",
        "classifier = RandomForestClassifier(n_estimators=100, random_state=42) #cria uma floresta de 100 arvores de decisão e com mesma semente\n",
        "classifier.fit(X_train, y_train) # treina o random florest com os dados de treino x_train e os embeddings das classes associadas\n",
        "#Durante o treinamento cada árvore é ajustada para aprender padrões e regras que associem embeddings com as classes dos sons\n",
        "#Cria árvores usando amostras aleatórias de X_train e subconjuntos de características para criar diversidade nas árvores"
      ],
      "metadata": {
        "colab": {
          "base_uri": "https://localhost:8080/",
          "height": 176
        },
        "id": "7_A9cN4jlUi3",
        "outputId": "0d1b8891-29cf-489d-9a64-cc2f931d0d0e"
      },
      "execution_count": null,
      "outputs": [
        {
          "output_type": "error",
          "ename": "NameError",
          "evalue": "name 'X_train' is not defined",
          "traceback": [
            "\u001b[0;31m---------------------------------------------------------------------------\u001b[0m",
            "\u001b[0;31mNameError\u001b[0m                                 Traceback (most recent call last)",
            "\u001b[0;32m<ipython-input-1-23a903ec1a5d>\u001b[0m in \u001b[0;36m<cell line: 4>\u001b[0;34m()\u001b[0m\n\u001b[1;32m      2\u001b[0m \u001b[0;34m\u001b[0m\u001b[0m\n\u001b[1;32m      3\u001b[0m \u001b[0mclassifier\u001b[0m \u001b[0;34m=\u001b[0m \u001b[0mRandomForestClassifier\u001b[0m\u001b[0;34m(\u001b[0m\u001b[0mn_estimators\u001b[0m\u001b[0;34m=\u001b[0m\u001b[0;36m100\u001b[0m\u001b[0;34m,\u001b[0m \u001b[0mrandom_state\u001b[0m\u001b[0;34m=\u001b[0m\u001b[0;36m42\u001b[0m\u001b[0;34m)\u001b[0m \u001b[0;31m#cria uma floresta de 100 arvores de decisão e com mesma semente\u001b[0m\u001b[0;34m\u001b[0m\u001b[0;34m\u001b[0m\u001b[0m\n\u001b[0;32m----> 4\u001b[0;31m \u001b[0mclassifier\u001b[0m\u001b[0;34m.\u001b[0m\u001b[0mfit\u001b[0m\u001b[0;34m(\u001b[0m\u001b[0mX_train\u001b[0m\u001b[0;34m,\u001b[0m \u001b[0my_train\u001b[0m\u001b[0;34m)\u001b[0m \u001b[0;31m# treina o random florest com os dados de treino x_train e os embeddings das classes associadas\u001b[0m\u001b[0;34m\u001b[0m\u001b[0;34m\u001b[0m\u001b[0m\n\u001b[0m",
            "\u001b[0;31mNameError\u001b[0m: name 'X_train' is not defined"
          ]
        }
      ]
    },
    {
      "cell_type": "markdown",
      "source": [
        "##Prever e avaliar as previsões"
      ],
      "metadata": {
        "id": "deHUhkOY7c04"
      }
    },
    {
      "cell_type": "code",
      "source": [
        "from sklearn.metrics import accuracy_score, classification_report\n",
        "\n",
        "y_pred = classifier.predict(X_test) #usa o modelo treinado para prever os rotulos das amostras em X_test que contem os embeddings\n",
        "#y_pred são as classes previstas pelo modelo para o conjunto de embeddings dos dados de testes fornecidos\n",
        "print(\"Accuracy:\", accuracy_score(y_test, y_pred))\n",
        "print(\"Classification Report:\\n\", classification_report(y_test, y_pred))"
      ],
      "metadata": {
        "colab": {
          "base_uri": "https://localhost:8080/"
        },
        "id": "0KvVhBbCla-T",
        "outputId": "80c7e481-f296-42f3-85d2-d2d9bc15fbef"
      },
      "execution_count": null,
      "outputs": [
        {
          "output_type": "stream",
          "name": "stdout",
          "text": [
            "Accuracy: 0.82\n",
            "Classification Report:\n",
            "               precision    recall  f1-score   support\n",
            "\n",
            "           0       1.00      1.00      1.00         6\n",
            "           1       1.00      0.83      0.91         6\n",
            "           2       1.00      0.67      0.80         9\n",
            "           3       0.93      1.00      0.96        13\n",
            "           4       0.91      0.91      0.91        11\n",
            "           5       0.92      1.00      0.96        12\n",
            "           6       0.92      1.00      0.96        12\n",
            "           7       0.86      1.00      0.92         6\n",
            "           8       1.00      1.00      1.00        10\n",
            "           9       1.00      0.83      0.91         6\n",
            "          10       0.80      0.80      0.80         5\n",
            "          11       0.91      0.83      0.87        12\n",
            "          12       1.00      0.67      0.80         9\n",
            "          13       1.00      1.00      1.00         6\n",
            "          14       0.86      1.00      0.92         6\n",
            "          15       1.00      0.57      0.73        14\n",
            "          16       0.70      0.78      0.74         9\n",
            "          17       0.56      1.00      0.71         5\n",
            "          18       1.00      1.00      1.00         8\n",
            "          19       1.00      0.86      0.92         7\n",
            "          20       1.00      0.60      0.75         5\n",
            "          21       0.50      0.75      0.60         8\n",
            "          22       1.00      1.00      1.00        11\n",
            "          23       0.86      0.75      0.80         8\n",
            "          24       0.83      0.50      0.62        10\n",
            "          25       1.00      0.88      0.93         8\n",
            "          26       0.25      0.50      0.33         4\n",
            "          27       1.00      0.86      0.92         7\n",
            "          28       0.90      1.00      0.95         9\n",
            "          29       0.83      0.71      0.77         7\n",
            "          30       0.62      1.00      0.77         5\n",
            "          31       0.78      0.64      0.70        11\n",
            "          32       0.86      1.00      0.92         6\n",
            "          33       0.57      0.57      0.57         7\n",
            "          34       0.75      0.75      0.75         8\n",
            "          35       0.80      0.36      0.50        11\n",
            "          36       1.00      0.93      0.96        14\n",
            "          37       0.89      1.00      0.94         8\n",
            "          38       0.50      0.60      0.55         5\n",
            "          39       0.62      1.00      0.77         5\n",
            "          40       0.58      0.58      0.58        12\n",
            "          41       1.00      0.75      0.86         4\n",
            "          42       0.89      0.89      0.89         9\n",
            "          43       0.50      0.67      0.57         3\n",
            "          44       0.60      0.67      0.63         9\n",
            "          45       0.77      1.00      0.87        10\n",
            "          46       1.00      1.00      1.00         8\n",
            "          47       0.40      0.50      0.44         8\n",
            "          48       0.00      0.00      0.00         0\n",
            "          49       1.00      1.00      1.00         8\n",
            "\n",
            "    accuracy                           0.82       400\n",
            "   macro avg       0.81      0.80      0.80       400\n",
            "weighted avg       0.85      0.82      0.82       400\n",
            "\n"
          ]
        },
        {
          "output_type": "stream",
          "name": "stderr",
          "text": [
            "/usr/local/lib/python3.10/dist-packages/sklearn/metrics/_classification.py:1531: UndefinedMetricWarning: Recall is ill-defined and being set to 0.0 in labels with no true samples. Use `zero_division` parameter to control this behavior.\n",
            "  _warn_prf(average, modifier, f\"{metric.capitalize()} is\", len(result))\n",
            "/usr/local/lib/python3.10/dist-packages/sklearn/metrics/_classification.py:1531: UndefinedMetricWarning: Recall is ill-defined and being set to 0.0 in labels with no true samples. Use `zero_division` parameter to control this behavior.\n",
            "  _warn_prf(average, modifier, f\"{metric.capitalize()} is\", len(result))\n",
            "/usr/local/lib/python3.10/dist-packages/sklearn/metrics/_classification.py:1531: UndefinedMetricWarning: Recall is ill-defined and being set to 0.0 in labels with no true samples. Use `zero_division` parameter to control this behavior.\n",
            "  _warn_prf(average, modifier, f\"{metric.capitalize()} is\", len(result))\n"
          ]
        }
      ]
    },
    {
      "cell_type": "markdown",
      "source": [
        "##Validação cruzada"
      ],
      "metadata": {
        "id": "ikLM2p4lG7YR"
      }
    },
    {
      "cell_type": "code",
      "source": [
        "from sklearn.model_selection import cross_val_score\n",
        "from sklearn.ensemble import RandomForestClassifier\n",
        "\n",
        "clf = RandomForestClassifier(random_state=42)\n",
        "scores = cross_val_score(clf, X, y, cv=5)\n",
        "print(\"Scores da validação cruzada:\", scores)\n",
        "\n",
        "#pois algumas classes podem ser descaracterizadas"
      ],
      "metadata": {
        "id": "QhS5Cl4kG6ce"
      },
      "execution_count": null,
      "outputs": []
    }
  ]
}